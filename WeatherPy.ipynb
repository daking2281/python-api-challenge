{
 "cells": [
  {
   "cell_type": "code",
   "execution_count": 84,
   "metadata": {
    "scrolled": true
   },
   "outputs": [
    {
     "name": "stdout",
     "output_type": "stream",
     "text": [
      "Requirement already satisfied: citipy in c:\\users\\danie\\anaconda3\\envs\\pythondata\\lib\\site-packages (0.0.5)\n",
      "Requirement already satisfied: kdtree>=0.12 in c:\\users\\danie\\anaconda3\\envs\\pythondata\\lib\\site-packages (from citipy) (0.16)\n"
     ]
    }
   ],
   "source": [
    "!pip install citipy\n",
    "# Dependencies and Setup\n",
    "import matplotlib.pyplot as plt\n",
    "import pandas as pd\n",
    "import numpy as np\n",
    "import requests\n",
    "import time\n",
    "from scipy.stats import linregress\n",
    "import scipy.stats as st\n",
    "\n",
    "# Import API key\n",
    "from api_keys import weather_api_key\n",
    "\n",
    "# Incorporated citipy to determine city based on latitude and longitude\n",
    "from citipy import citipy\n",
    "\n",
    "# Output File (CSV)\n",
    "output_data_file = \"output_data/cities.csv\"\n",
    "\n",
    "# Range of latitudes and longitudes\n",
    "lat_range = (-90, 90)\n",
    "lng_range = (-180, 180)"
   ]
  },
  {
   "cell_type": "markdown",
   "metadata": {},
   "source": [
    "# WeatherPy\n",
    "----\n",
    "\n",
    "#### Note\n",
    "* Instructions have been included for each segment. You do not have to follow them exactly, but they are included to help you think through the steps."
   ]
  },
  {
   "cell_type": "markdown",
   "metadata": {},
   "source": [
    "## Generate Cities List"
   ]
  },
  {
   "cell_type": "code",
   "execution_count": 107,
   "metadata": {},
   "outputs": [
    {
     "data": {
      "text/plain": [
       "588"
      ]
     },
     "execution_count": 107,
     "metadata": {},
     "output_type": "execute_result"
    }
   ],
   "source": [
    "# List for holding lat_lngs and cities\n",
    "lat_lngs = []\n",
    "cities = []\n",
    "\n",
    "# Create a set of random lat and lng combinations\n",
    "lats = np.random.uniform(lat_range[0], lat_range[1], size=1500)\n",
    "lngs = np.random.uniform(lng_range[0], lng_range[1], size=1500)\n",
    "lat_lngs = zip(lats, lngs)\n",
    "\n",
    "# Identify nearest city for each lat, lng combination\n",
    "for lat_lng in lat_lngs:\n",
    "    city = citipy.nearest_city(lat_lng[0], lat_lng[1]).city_name\n",
    "    \n",
    "    # If the city is unique, then add it to a our cities list\n",
    "    if city not in cities:\n",
    "        cities.append(city)\n",
    "\n",
    "# Print the city count to confirm sufficient count\n",
    "len(cities)\n"
   ]
  },
  {
   "cell_type": "markdown",
   "metadata": {},
   "source": [
    "### Perform API Calls\n",
    "* Perform a weather check on each city using a series of successive API calls.\n",
    "* Include a print log of each city as it'sbeing processed (with the city number and city name).\n"
   ]
  },
  {
   "cell_type": "code",
   "execution_count": 108,
   "metadata": {
    "scrolled": true
   },
   "outputs": [
    {
     "name": "stdout",
     "output_type": "stream",
     "text": [
      "City not found Skipping...\n",
      "City not found Skipping...\n",
      "City not found Skipping...\n",
      "City not found Skipping...\n",
      "City not found Skipping...\n",
      "City not found Skipping...\n",
      "City not found Skipping...\n",
      "City not found Skipping...\n",
      "City not found Skipping...\n",
      "City not found Skipping...\n",
      "City not found Skipping...\n",
      "City not found Skipping...\n",
      "City not found Skipping...\n",
      "City not found Skipping...\n",
      "City not found Skipping...\n",
      "City not found Skipping...\n",
      "City not found Skipping...\n",
      "City not found Skipping...\n",
      "City not found Skipping...\n",
      "City not found Skipping...\n",
      "City not found Skipping...\n",
      "City not found Skipping...\n",
      "City not found Skipping...\n",
      "City not found Skipping...\n",
      "City not found Skipping...\n",
      "City not found Skipping...\n",
      "City not found Skipping...\n",
      "City not found Skipping...\n",
      "City not found Skipping...\n",
      "City not found Skipping...\n",
      "City not found Skipping...\n",
      "City not found Skipping...\n",
      "City not found Skipping...\n",
      "City not found Skipping...\n",
      "City not found Skipping...\n",
      "City not found Skipping...\n",
      "City not found Skipping...\n",
      "City not found Skipping...\n",
      "City not found Skipping...\n",
      "City not found Skipping...\n",
      "City not found Skipping...\n",
      "City not found Skipping...\n",
      "City not found Skipping...\n",
      "City not found Skipping...\n",
      "City not found Skipping...\n",
      "City not found Skipping...\n",
      "City not found Skipping...\n",
      "City not found Skipping...\n",
      "City not found Skipping...\n",
      "City not found Skipping...\n",
      "City not found Skipping...\n",
      "City not found Skipping...\n",
      "City not found Skipping...\n",
      "City not found Skipping...\n",
      "City not found Skipping...\n",
      "City not found Skipping...\n",
      "City not found Skipping...\n",
      "City not found Skipping...\n",
      "City not found Skipping...\n",
      "Processing 0 | Baker City\n",
      "Processing 1 | Tuatapere\n",
      "Processing 2 | Saint-Pierre\n",
      "Processing 3 | Arraial do Cabo\n",
      "Processing 4 | Ushuaia\n",
      "Processing 5 | Cape Town\n",
      "Processing 6 | Pemberton\n",
      "Processing 7 | Adrar\n",
      "Processing 8 | Nuci\n",
      "Processing 9 | Akdepe\n",
      "Processing 10 | Mataura\n",
      "Processing 11 | Beringovskiy\n",
      "Processing 12 | Winnemucca\n",
      "Processing 13 | Shurugwi\n",
      "Processing 14 | Butaritari\n",
      "Processing 15 | Seydi\n",
      "Processing 16 | Sinnamary\n",
      "Processing 17 | Rikitea\n",
      "Processing 18 | Mahébourg\n",
      "Processing 19 | Klaksvík\n",
      "Processing 20 | Lebu\n",
      "Processing 21 | Lazi\n",
      "Processing 22 | Maués\n",
      "Processing 23 | Guerrero Negro\n",
      "Processing 24 | Biloela\n",
      "Processing 25 | Iralaya\n",
      "Processing 26 | Sitka\n",
      "Processing 27 | Kapaa\n",
      "Processing 28 | Port Elizabeth\n",
      "Processing 29 | Thayetmyo\n",
      "Processing 30 | Tuktoyaktuk\n",
      "Processing 31 | Saskylakh\n",
      "Processing 32 | Busselton\n",
      "Processing 33 | Upernavik\n",
      "Processing 34 | Khatanga\n",
      "Processing 35 | Progreso\n",
      "Processing 36 | Castro\n",
      "Processing 37 | Avarua\n",
      "Processing 38 | Feira de Santana\n",
      "Processing 39 | Albany\n",
      "Processing 40 | Yarim\n",
      "Processing 41 | Bluff\n",
      "Processing 42 | Gerāsh\n",
      "Processing 43 | Songkhla\n",
      "Processing 44 | Arlit\n",
      "Processing 45 | Tiksi\n",
      "Processing 46 | Menomonie\n",
      "Processing 47 | Bengkulu\n",
      "Processing 48 | Bredasdorp\n",
      "Processing 49 | Tura\n",
      "Processing 50 | George Town\n",
      "Processing 51 | Airai\n",
      "Processing 52 | Sioux Lookout\n",
      "Processing 53 | Changji\n",
      "Processing 54 | Whitehorse\n",
      "Processing 55 | Jamestown\n",
      "Processing 56 | Namtsy\n",
      "Processing 57 | Carnarvon\n",
      "Processing 58 | Arequipa\n",
      "Processing 59 | Hobart\n",
      "Processing 60 | Darnétal\n",
      "Processing 61 | Constitución\n",
      "Processing 62 | Faya\n",
      "Processing 63 | Chokurdakh\n",
      "Processing 64 | Arona\n",
      "Processing 65 | Marawi\n",
      "Processing 66 | Cherskiy\n",
      "Processing 67 | Somova\n",
      "Processing 68 | Torbay\n",
      "Processing 69 | Cockburn Town\n",
      "Processing 70 | Chapais\n",
      "Processing 71 | Si Chiang Mai\n",
      "Processing 72 | Goderich\n",
      "Processing 73 | Bāfq\n",
      "Processing 74 | Thompson\n",
      "Processing 75 | Mount Gambier\n",
      "Processing 76 | Zyryanka\n",
      "Processing 77 | Kieta\n",
      "Processing 78 | Hambantota\n",
      "Processing 79 | Puerto Ayora\n",
      "Processing 80 | Mirny\n",
      "Processing 81 | Lázaro Cárdenas\n",
      "Processing 82 | Hermanus\n",
      "Processing 83 | Faanui\n",
      "Processing 84 | Bilma\n",
      "Processing 85 | Kaitangata\n",
      "Processing 86 | Roald\n",
      "Processing 87 | Sistranda\n",
      "Processing 88 | Yellowknife\n",
      "Processing 89 | Mehamn\n",
      "Processing 90 | Ponta do Sol\n",
      "Processing 91 | Eureka\n",
      "Processing 92 | Lorengau\n",
      "Processing 93 | Atuona\n",
      "Processing 94 | Villena\n",
      "Processing 95 | Krasnogorskoye\n",
      "Processing 96 | Olonets\n",
      "Processing 97 | San Pedro de Macorís\n",
      "Processing 98 | Saint-Philippe\n",
      "Processing 99 | Namatanai\n",
      "Processing 100 | São João da Barra\n",
      "Processing 101 | Saint Paul Harbor\n",
      "Processing 102 | Tual\n",
      "Processing 103 | Salina Cruz\n",
      "Processing 104 | Quelimane\n",
      "Processing 105 | Juneau\n",
      "Processing 106 | Mukhen\n",
      "Processing 107 | Salalah\n",
      "Processing 108 | Digby\n",
      "Processing 109 | Savannah Bight\n",
      "Processing 110 | Aykhal\n",
      "Processing 111 | Martapura\n",
      "Processing 112 | Barrow\n",
      "Processing 113 | Haines Junction\n",
      "Processing 114 | Bethel\n",
      "Processing 115 | New Norfolk\n",
      "Processing 116 | Vrangel'\n",
      "Processing 117 | Mahajanga\n",
      "Processing 118 | Karasjok\n",
      "Processing 119 | Skjervøy\n",
      "Processing 120 | Provideniya\n",
      "Processing 121 | Guipavas\n",
      "Processing 122 | Paita\n",
      "Processing 123 | Bilibino\n",
      "Processing 124 | Ribeira Grande\n",
      "Processing 125 | Mar del Plata\n",
      "Processing 126 | Qaanaaq\n",
      "Processing 127 | Asmara\n",
      "Processing 128 | Baracoa\n",
      "Processing 129 | Laredo\n",
      "Processing 130 | Henties Bay\n",
      "Processing 131 | Road Town\n",
      "Processing 132 | Yumen\n",
      "Processing 133 | Orchard Homes\n",
      "Processing 134 | Souillac\n",
      "Processing 135 | Vaini\n",
      "Processing 136 | Doha\n",
      "Processing 137 | Valparaíso\n",
      "Processing 138 | Kavaratti\n",
      "Processing 139 | Tessalit\n",
      "Processing 140 | Mareeba\n",
      "Processing 141 | Honiara\n",
      "Processing 142 | Portland\n",
      "Processing 143 | Yar-Sale\n",
      "Processing 144 | Phalaborwa\n",
      "Processing 145 | Trincomalee\n",
      "Processing 146 | Saint-François\n",
      "Processing 147 | Leningradskiy\n",
      "Processing 148 | Tarko-Sale\n",
      "Processing 149 | Port Hardy\n",
      "Processing 150 | Talnakh\n",
      "Processing 151 | La Ronge\n",
      "Processing 152 | Labuhan\n",
      "Processing 153 | Nome\n",
      "Processing 154 | Geraldton\n",
      "Processing 155 | Baykit\n",
      "Processing 156 | Maceió\n",
      "Processing 157 | Hong Kong\n",
      "Processing 158 | Mahdasht\n",
      "Processing 159 | Lavrentiya\n",
      "Processing 160 | Rivadavia\n",
      "Processing 161 | Bahía Honda\n",
      "Processing 162 | Karratha\n",
      "Processing 163 | Toledo\n",
      "Processing 164 | Riyadh\n",
      "Processing 165 | Clyde River\n",
      "Processing 166 | Ancud\n",
      "Processing 167 | Passo Fundo\n",
      "Processing 168 | Punta Arenas\n",
      "Processing 169 | Kāvali\n",
      "Processing 170 | Atar\n",
      "Processing 171 | Trat\n",
      "Processing 172 | Borogontsy\n",
      "Processing 173 | Leskolovo\n",
      "Processing 174 | Iwanai\n",
      "Processing 175 | Nizhniy Kuranakh\n",
      "Processing 176 | Lüderitz\n",
      "Processing 177 | Nanortalik\n",
      "Processing 178 | Pachino\n",
      "Processing 179 | Bonavista\n",
      "Processing 180 | Funadhoo\n",
      "Processing 181 | Kaeo\n",
      "Processing 182 | Soubre\n",
      "Processing 183 | Andros Town\n",
      "Processing 184 | Quryq\n",
      "Processing 185 | Ipuã\n",
      "Processing 186 | Silleda\n",
      "Processing 187 | Acapulco de Juárez\n",
      "Processing 188 | Hay River\n",
      "Processing 189 | Pevek\n",
      "Processing 190 | Linxia Chengguanzhen\n",
      "Processing 191 | Altay\n",
      "Processing 192 | Vilhena\n",
      "Processing 193 | Olafsvik\n",
      "Processing 194 | Albanel\n",
      "Processing 195 | Oistins\n",
      "Processing 196 | Casas Grandes\n",
      "Processing 197 | Caucayá\n",
      "Processing 198 | Santo Ângelo\n",
      "Processing 199 | Iwaki\n",
      "Processing 200 | Nyurba\n",
      "Processing 201 | Goma\n",
      "Processing 202 | Rocha\n",
      "Processing 203 | Tevaitoa\n",
      "Processing 204 | Jacksonville\n",
      "Processing 205 | Asău\n",
      "Processing 206 | Hilo\n",
      "Processing 207 | Cabo San Lucas\n",
      "Processing 208 | Luena\n",
      "Processing 209 | Dunedin\n",
      "Processing 210 | Yangi Marg`ilon\n",
      "Processing 211 | Codrington\n",
      "Processing 212 | Dhidhdhoo\n",
      "Processing 213 | Port Blair\n",
      "Processing 214 | Saint-Augustin\n",
      "Processing 215 | Tyumen\n",
      "Processing 216 | Tilichiki\n",
      "Processing 217 | Hithadhoo\n",
      "Processing 218 | Port Alfred\n",
      "Processing 219 | Gladstone\n",
      "Processing 220 | Arrondissement de Lisieux\n",
      "Processing 221 | Samarai\n",
      "Processing 222 | Carora\n",
      "Processing 223 | Kununurra\n",
      "Processing 224 | Gillette\n",
      "Processing 225 | Ilulissat\n",
      "Processing 226 | Iquitos\n",
      "Processing 227 | Cidreira\n",
      "Processing 228 | Zhuanghe\n",
      "Processing 229 | Hanna\n",
      "Processing 230 | Hasaki\n",
      "Processing 231 | Örnsköldsvik\n",
      "Processing 232 | General Roca\n",
      "Processing 233 | Barcelos\n",
      "Processing 234 | Takoradze\n",
      "Processing 235 | Krasnosel'kup\n",
      "Processing 236 | Palauig\n",
      "Processing 237 | Bagan\n",
      "Processing 238 | Kumul\n",
      "Processing 239 | Keflavik\n",
      "Processing 240 | Curumaní\n",
      "Processing 241 | Ostrovnoy\n",
      "Processing 242 | Malbork\n",
      "Processing 243 | Pacocha\n",
      "Processing 244 | Malartic\n",
      "Processing 245 | Sokółka\n",
      "Processing 246 | Deputatsky\n",
      "Processing 247 | Caravelas\n",
      "Processing 248 | Urusha\n",
      "Processing 249 | Poshekhon'ye\n",
      "Processing 250 | Sabha\n",
      "Processing 251 | Hue\n",
      "Processing 252 | Ginir\n",
      "Processing 253 | Am Timan\n",
      "Processing 254 | Norman Wells\n",
      "Processing 255 | Sur\n",
      "Processing 256 | Narsaq\n",
      "Processing 257 | Mana\n",
      "Processing 258 | Te Anau\n",
      "Processing 259 | Richards Bay\n",
      "Processing 260 | Äänekoski\n",
      "Processing 261 | Lompoc\n",
      "Processing 262 | Sisimiut\n",
      "Processing 263 | Berezovyy\n",
      "Processing 264 | Bois-Guillaume\n",
      "Processing 265 | Srednekolymsk\n",
      "Processing 266 | Ukiah\n",
      "Processing 267 | Ixtapa\n",
      "Processing 268 | North Myrtle Beach\n",
      "Processing 269 | Amahai\n",
      "Processing 270 | Trairi\n",
      "Processing 271 | Lata\n",
      "Processing 272 | Baijiantan\n",
      "Processing 273 | Kyabé\n",
      "Processing 274 | Kiunga\n",
      "Processing 275 | Al Bardīyah\n",
      "Processing 276 | Ballina\n",
      "Processing 277 | Vieux-Habitants\n",
      "Processing 278 | Auriflama\n",
      "Processing 279 | Tasiilaq\n",
      "Processing 280 | Yerbogachën\n",
      "Processing 281 | Longyearbyen\n",
      "Processing 282 | Bandarbeyla\n",
      "Processing 283 | Alihe\n",
      "Processing 284 | San Patricio\n",
      "Processing 285 | Leh\n",
      "Processing 286 | Ngunguru\n",
      "Processing 287 | Matadi\n",
      "Processing 288 | Mayo\n",
      "Processing 289 | Vieques\n",
      "Processing 290 | Porbandar\n",
      "Processing 291 | Redmond\n",
      "Processing 292 | Dikson\n",
      "Processing 293 | Tazovsky\n",
      "Processing 294 | Šalčininkai\n",
      "Processing 295 | Isoka\n",
      "Processing 296 | Vrises\n",
      "Processing 297 | Almaty\n",
      "Processing 298 | Cairns\n",
      "Processing 299 | Saldanha\n",
      "Processing 300 | Visby\n",
      "Processing 301 | Itarema\n",
      "Processing 302 | Mossamedes\n",
      "Processing 303 | Severo-Kuril'sk\n",
      "Processing 304 | Harper\n",
      "Processing 305 | Edéia\n",
      "Processing 306 | Yichun\n",
      "Processing 307 | Turukhansk\n",
      "Processing 308 | Pochutla\n",
      "Processing 309 | East London\n",
      "Processing 310 | Berdigestyakh\n",
      "Processing 311 | Quatre Cocos\n",
      "Processing 312 | Yulara\n",
      "Processing 313 | Xining\n",
      "Processing 314 | Tabriz\n",
      "Processing 315 | Tigil'\n",
      "Processing 316 | Petatlán\n",
      "Processing 317 | Kavieng\n",
      "Processing 318 | Chicama\n",
      "Processing 319 | Ilhabela\n",
      "Processing 320 | Lumeje\n",
      "Processing 321 | Vostok\n",
      "Processing 322 | Lagoa\n",
      "Processing 323 | Peniche\n",
      "Processing 324 | Khāsh\n",
      "Processing 325 | Bubaque\n",
      "Processing 326 | San Ignacio\n",
      "Processing 327 | Panabá\n",
      "Processing 328 | Muros\n",
      "Processing 329 | Aklavik\n",
      "Processing 330 | Kayes\n",
      "Processing 331 | Kitui\n",
      "Processing 332 | Sucilá\n",
      "Processing 333 | Dingle\n",
      "Processing 334 | Warman\n",
      "Processing 335 | Jiwani\n",
      "Processing 336 | San Cristobal\n",
      "Processing 337 | Cracow\n",
      "Processing 338 | Talara\n",
      "Processing 339 | Hashtrūd\n",
      "Processing 340 | Nikolskoye\n",
      "Processing 341 | Bukoba\n",
      "Processing 342 | Daru\n",
      "Processing 343 | Tezu\n",
      "Processing 344 | Rosetta\n",
      "Processing 345 | Flinders\n",
      "Processing 346 | Kurayoshi\n",
      "Processing 347 | Birjand\n",
      "Processing 348 | Kolomak\n",
      "Processing 349 | Esperance\n",
      "Processing 350 | Mount Isa\n",
      "Processing 351 | Miracema do Tocantins\n",
      "Processing 352 | Laško\n",
      "Processing 353 | Bambous Virieux\n",
      "Processing 354 | Katsuura\n",
      "Processing 355 | Kloulklubed\n",
      "Processing 356 | Launceston\n",
      "Processing 357 | Shingū\n",
      "Processing 358 | Ahipara\n",
      "Processing 359 | Manggar\n",
      "Processing 360 | Havre-St-Pierre\n",
      "Processing 361 | Grindavik\n",
      "Processing 362 | Burgos\n",
      "Processing 363 | Anaconda\n",
      "Processing 364 | Chernyshkovskiy\n",
      "Processing 365 | Yashkul'\n",
      "Processing 366 | Glenluce\n",
      "Processing 367 | Biabou\n",
      "Processing 368 | Poum\n",
      "Processing 369 | Diamantino\n",
      "Processing 370 | Mandalgovi\n",
      "Processing 371 | Hobyo\n",
      "Processing 372 | Gamba\n",
      "Processing 373 | Sayyan\n",
      "Processing 374 | Montero\n",
      "Processing 375 | Kruisfontein\n",
      "Processing 376 | Kiama\n",
      "Processing 377 | ‘Āhuimanu\n",
      "Processing 378 | Rawson\n",
      "Processing 379 | Bo Phloi\n",
      "Processing 380 | Nurota\n",
      "Processing 381 | Abū Zabad\n",
      "Processing 382 | Warsaw\n",
      "Processing 383 | Volga\n",
      "Processing 384 | Baruun-Urt\n",
      "Processing 385 | Guasdualito\n",
      "Processing 386 | Lima\n",
      "Processing 387 | Nara\n",
      "Processing 388 | Conceição do Araguaia\n",
      "Processing 389 | Terrace Bay\n",
      "Processing 390 | Ghanzi\n",
      "Processing 391 | Kiryat Gat\n",
      "Processing 392 | Alta Floresta\n",
      "Processing 393 | Vila\n",
      "Processing 394 | Pekalongan\n",
      "Processing 395 | Sept-Îles\n",
      "Processing 396 | Glazunovka\n",
      "Processing 397 | Hamadan\n",
      "Processing 398 | Makakilo City\n",
      "Processing 399 | Itoman\n",
      "Processing 400 | Mujiayingzi\n",
      "Processing 401 | Lékoni\n",
      "Processing 402 | Najrān\n",
      "Processing 403 | Carutapera\n",
      "Processing 404 | Ouallam\n",
      "Processing 405 | San Félix\n",
      "Processing 406 | Chivasso\n",
      "Processing 407 | San Jose\n",
      "Processing 408 | Sretensk\n",
      "Processing 409 | Puerto Maldonado\n",
      "Processing 410 | Khurba\n",
      "Processing 411 | Forsytheganj\n",
      "Processing 412 | Buraidah\n",
      "Processing 413 | Zhigansk\n",
      "Processing 414 | Aswān\n",
      "Processing 415 | Pandan\n",
      "Processing 416 | Goba\n",
      "Processing 417 | Ginda\n",
      "Processing 418 | Bagdarin\n",
      "Processing 419 | San Lorenzo\n",
      "Processing 420 | Beruwala\n",
      "Processing 421 | Indaial\n",
      "Processing 422 | Byron Bay\n",
      "Processing 423 | Bathsheba\n",
      "Processing 424 | Coquimbo\n",
      "Processing 425 | Sogod\n",
      "Processing 426 | Okhotsk\n",
      "Processing 427 | Sotuta\n",
      "Processing 428 | Krasnoturansk\n",
      "Processing 429 | Caucaia\n",
      "Processing 430 | Chizhou\n",
      "Processing 431 | Mpika\n",
      "Processing 432 | Vao\n",
      "Processing 433 | Diego de Almagro\n",
      "Processing 434 | Isangel\n",
      "Processing 435 | Yurimaguas\n",
      "Processing 436 | Hervey Bay\n",
      "Processing 437 | Hirara\n",
      "Processing 438 | Bambanglipuro\n",
      "Processing 439 | Kencong\n",
      "Processing 440 | Necochea\n",
      "Processing 441 | Nokaneng\n",
      "Processing 442 | Preobrazheniye\n",
      "Processing 443 | Katangli\n",
      "Processing 444 | Kholm\n",
      "Processing 445 | Altamirano\n",
      "Processing 446 | Songjianghe\n",
      "Processing 447 | Yaan\n",
      "Processing 448 | San Quintín\n",
      "Processing 449 | Chiang Khong\n",
      "Processing 450 | Myszków\n",
      "Processing 451 | Tautira\n",
      "Processing 452 | São Filipe\n",
      "Processing 453 | Anapskaya\n",
      "Processing 454 | Nouakchott\n",
      "Processing 455 | Simbahan\n",
      "Processing 456 | Altamont\n",
      "Processing 457 | Correntina\n",
      "Processing 458 | São José da Coroa Grande\n",
      "Processing 459 | Tapiramutá\n",
      "Processing 460 | Kaniama\n",
      "Processing 461 | Geneva\n",
      "Processing 462 | Kommunisticheskiy\n",
      "Processing 463 | La Santisima Trinidad\n",
      "Processing 464 | Prince Rupert\n",
      "Processing 465 | Mandalay\n",
      "Processing 466 | Kazygurt\n",
      "Processing 467 | Salinópolis\n",
      "Processing 468 | Nyangao\n",
      "Processing 469 | Zapolyarnyy\n",
      "Processing 470 | Kralendijk\n",
      "Processing 471 | Kahului\n",
      "Processing 472 | Kapellen\n",
      "Processing 473 | Taoudenni\n",
      "Processing 474 | Okha\n",
      "Processing 475 | Matveyevka\n",
      "Processing 476 | Voi\n",
      "Processing 477 | Hazorasp\n",
      "Processing 478 | Biak\n",
      "Processing 479 | Avera\n",
      "Processing 480 | Bismarck\n",
      "Processing 481 | Shimoda\n",
      "Processing 482 | Salamiyah\n",
      "Processing 483 | North Platte\n",
      "Processing 484 | Amuntai\n",
      "Processing 485 | Kurunegala\n",
      "Processing 486 | Ouadda\n",
      "Processing 487 | Nekā\n",
      "Processing 488 | Padang\n",
      "Processing 489 | Tutóia\n",
      "Processing 490 | Kenai\n",
      "Processing 491 | Teahupoo\n",
      "Processing 492 | Smolenka\n",
      "Processing 493 | Chui\n",
      "Processing 494 | Pangnirtung\n",
      "Processing 495 | Palimé\n",
      "Processing 496 | Nichinan\n",
      "Processing 497 | Swabi\n",
      "Processing 498 | Mbandaka\n",
      "Processing 499 | Amalāpuram\n",
      "Processing 500 | Nadym\n",
      "Processing 501 | Beloha\n",
      "Processing 502 | Kobyzhcha\n",
      "Processing 503 | Khorramshahr\n",
      "Processing 504 | Coyhaique\n",
      "Processing 505 | Nelson Bay\n",
      "Processing 506 | Pacific Grove\n",
      "Processing 507 | Benguela\n",
      "Processing 508 | Eldorado\n",
      "Processing 509 | Gritsovskiy\n",
      "Processing 510 | Sindor\n",
      "Processing 511 | Zhanakorgan\n",
      "Processing 512 | Cedar City\n",
      "Processing 513 | Kodinsk\n",
      "Processing 514 | French Harbor\n",
      "Processing 515 | Agüimes\n",
      "Processing 516 | Soyo\n",
      "Processing 517 | Zenzeli\n",
      "Processing 518 | Husavik\n",
      "Processing 519 | Gainesville\n",
      "Processing 520 | Puerto Escondido\n",
      "Processing 521 | Tinogboc\n",
      "Processing 522 | Inhambane\n",
      "Processing 523 | St. George's\n",
      "Processing 524 | Los Andes\n",
      "Processing 525 | Paamiut\n",
      "Processing 526 | Barsovo\n",
      "Processing 527 | Novoanninskiy\n",
      "Processing 528 | Vanavara\n"
     ]
    }
   ],
   "source": [
    "url=f'https://api.openweathermap.org/data/2.5/weather?q='\n",
    "cit=[]\n",
    "lat=[]\n",
    "long=[]\n",
    "maxtemp=[]\n",
    "humidity=[]\n",
    "cloud=[]\n",
    "ws=[]\n",
    "country=[]\n",
    "date=[]\n",
    "for city in cities:\n",
    "    query = url + city + f'&appid={weather_api_key}'+'&units=imperial'\n",
    "    response = requests.get(query)\n",
    "    response_json = response.json()\n",
    "    try:\n",
    "        lat.append(response_json[\"coord\"][\"lat\"])\n",
    "        long.append(response_json[\"coord\"][\"lon\"])\n",
    "        maxtemp.append(response_json[\"main\"][\"temp_max\"])\n",
    "        humidity.append(response_json['main']['humidity'])\n",
    "        cloud.append(response_json['clouds']['all'])\n",
    "        ws.append(response_json['wind']['speed'])\n",
    "        country.append(response_json['sys']['country'])\n",
    "        date.append(response_json['dt'])\n",
    "        cit.append(response_json['name'])\n",
    "    except:\n",
    "        print(\"City not found Skipping...\")\n",
    "for x in range(len(cit)):\n",
    "    print(f'Processing {x} | {cit[x]}')"
   ]
  },
  {
   "cell_type": "markdown",
   "metadata": {},
   "source": [
    "### Convert Raw Data to DataFrame\n",
    "* Export the city data into a .csv.\n",
    "* Display the DataFrame"
   ]
  },
  {
   "cell_type": "code",
   "execution_count": 109,
   "metadata": {},
   "outputs": [
    {
     "data": {
      "text/html": [
       "<div>\n",
       "<style scoped>\n",
       "    .dataframe tbody tr th:only-of-type {\n",
       "        vertical-align: middle;\n",
       "    }\n",
       "\n",
       "    .dataframe tbody tr th {\n",
       "        vertical-align: top;\n",
       "    }\n",
       "\n",
       "    .dataframe thead th {\n",
       "        text-align: right;\n",
       "    }\n",
       "</style>\n",
       "<table border=\"1\" class=\"dataframe\">\n",
       "  <thead>\n",
       "    <tr style=\"text-align: right;\">\n",
       "      <th></th>\n",
       "      <th>City</th>\n",
       "      <th>Lat</th>\n",
       "      <th>Lng</th>\n",
       "      <th>Max Temp</th>\n",
       "      <th>Humidity</th>\n",
       "      <th>Cloudiness</th>\n",
       "      <th>Wind Speed</th>\n",
       "      <th>Country</th>\n",
       "      <th>Date</th>\n",
       "    </tr>\n",
       "  </thead>\n",
       "  <tbody>\n",
       "    <tr>\n",
       "      <th>0</th>\n",
       "      <td>Baker City</td>\n",
       "      <td>44.7749</td>\n",
       "      <td>-117.8344</td>\n",
       "      <td>38.59</td>\n",
       "      <td>87</td>\n",
       "      <td>33</td>\n",
       "      <td>12.82</td>\n",
       "      <td>US</td>\n",
       "      <td>1666544296</td>\n",
       "    </tr>\n",
       "    <tr>\n",
       "      <th>1</th>\n",
       "      <td>Tuatapere</td>\n",
       "      <td>-46.1333</td>\n",
       "      <td>167.6833</td>\n",
       "      <td>48.07</td>\n",
       "      <td>96</td>\n",
       "      <td>100</td>\n",
       "      <td>12.95</td>\n",
       "      <td>NZ</td>\n",
       "      <td>1666544296</td>\n",
       "    </tr>\n",
       "    <tr>\n",
       "      <th>2</th>\n",
       "      <td>Saint-Pierre</td>\n",
       "      <td>-21.3393</td>\n",
       "      <td>55.4781</td>\n",
       "      <td>73.08</td>\n",
       "      <td>78</td>\n",
       "      <td>20</td>\n",
       "      <td>2.30</td>\n",
       "      <td>RE</td>\n",
       "      <td>1666544297</td>\n",
       "    </tr>\n",
       "    <tr>\n",
       "      <th>3</th>\n",
       "      <td>Arraial do Cabo</td>\n",
       "      <td>-22.9661</td>\n",
       "      <td>-42.0278</td>\n",
       "      <td>76.96</td>\n",
       "      <td>73</td>\n",
       "      <td>40</td>\n",
       "      <td>12.66</td>\n",
       "      <td>BR</td>\n",
       "      <td>1666544297</td>\n",
       "    </tr>\n",
       "    <tr>\n",
       "      <th>4</th>\n",
       "      <td>Ushuaia</td>\n",
       "      <td>-54.8000</td>\n",
       "      <td>-68.3000</td>\n",
       "      <td>55.06</td>\n",
       "      <td>47</td>\n",
       "      <td>40</td>\n",
       "      <td>4.61</td>\n",
       "      <td>AR</td>\n",
       "      <td>1666544206</td>\n",
       "    </tr>\n",
       "    <tr>\n",
       "      <th>...</th>\n",
       "      <td>...</td>\n",
       "      <td>...</td>\n",
       "      <td>...</td>\n",
       "      <td>...</td>\n",
       "      <td>...</td>\n",
       "      <td>...</td>\n",
       "      <td>...</td>\n",
       "      <td>...</td>\n",
       "      <td>...</td>\n",
       "    </tr>\n",
       "    <tr>\n",
       "      <th>524</th>\n",
       "      <td>Los Andes</td>\n",
       "      <td>-32.8337</td>\n",
       "      <td>-70.5983</td>\n",
       "      <td>79.02</td>\n",
       "      <td>35</td>\n",
       "      <td>5</td>\n",
       "      <td>8.14</td>\n",
       "      <td>CL</td>\n",
       "      <td>1666544515</td>\n",
       "    </tr>\n",
       "    <tr>\n",
       "      <th>525</th>\n",
       "      <td>Paamiut</td>\n",
       "      <td>61.9940</td>\n",
       "      <td>-49.6678</td>\n",
       "      <td>36.36</td>\n",
       "      <td>98</td>\n",
       "      <td>100</td>\n",
       "      <td>12.39</td>\n",
       "      <td>GL</td>\n",
       "      <td>1666544556</td>\n",
       "    </tr>\n",
       "    <tr>\n",
       "      <th>526</th>\n",
       "      <td>Barsovo</td>\n",
       "      <td>61.1667</td>\n",
       "      <td>73.1667</td>\n",
       "      <td>30.33</td>\n",
       "      <td>71</td>\n",
       "      <td>49</td>\n",
       "      <td>15.88</td>\n",
       "      <td>RU</td>\n",
       "      <td>1666544557</td>\n",
       "    </tr>\n",
       "    <tr>\n",
       "      <th>527</th>\n",
       "      <td>Novoanninskiy</td>\n",
       "      <td>50.5287</td>\n",
       "      <td>42.6747</td>\n",
       "      <td>48.49</td>\n",
       "      <td>81</td>\n",
       "      <td>89</td>\n",
       "      <td>9.60</td>\n",
       "      <td>RU</td>\n",
       "      <td>1666544557</td>\n",
       "    </tr>\n",
       "    <tr>\n",
       "      <th>528</th>\n",
       "      <td>Vanavara</td>\n",
       "      <td>60.3400</td>\n",
       "      <td>102.2797</td>\n",
       "      <td>43.47</td>\n",
       "      <td>73</td>\n",
       "      <td>62</td>\n",
       "      <td>19.44</td>\n",
       "      <td>RU</td>\n",
       "      <td>1666544557</td>\n",
       "    </tr>\n",
       "  </tbody>\n",
       "</table>\n",
       "<p>529 rows × 9 columns</p>\n",
       "</div>"
      ],
      "text/plain": [
       "                City      Lat       Lng  Max Temp  Humidity  Cloudiness  \\\n",
       "0         Baker City  44.7749 -117.8344     38.59        87          33   \n",
       "1          Tuatapere -46.1333  167.6833     48.07        96         100   \n",
       "2       Saint-Pierre -21.3393   55.4781     73.08        78          20   \n",
       "3    Arraial do Cabo -22.9661  -42.0278     76.96        73          40   \n",
       "4            Ushuaia -54.8000  -68.3000     55.06        47          40   \n",
       "..               ...      ...       ...       ...       ...         ...   \n",
       "524        Los Andes -32.8337  -70.5983     79.02        35           5   \n",
       "525          Paamiut  61.9940  -49.6678     36.36        98         100   \n",
       "526          Barsovo  61.1667   73.1667     30.33        71          49   \n",
       "527    Novoanninskiy  50.5287   42.6747     48.49        81          89   \n",
       "528         Vanavara  60.3400  102.2797     43.47        73          62   \n",
       "\n",
       "     Wind Speed Country        Date  \n",
       "0         12.82      US  1666544296  \n",
       "1         12.95      NZ  1666544296  \n",
       "2          2.30      RE  1666544297  \n",
       "3         12.66      BR  1666544297  \n",
       "4          4.61      AR  1666544206  \n",
       "..          ...     ...         ...  \n",
       "524        8.14      CL  1666544515  \n",
       "525       12.39      GL  1666544556  \n",
       "526       15.88      RU  1666544557  \n",
       "527        9.60      RU  1666544557  \n",
       "528       19.44      RU  1666544557  \n",
       "\n",
       "[529 rows x 9 columns]"
      ]
     },
     "execution_count": 109,
     "metadata": {},
     "output_type": "execute_result"
    }
   ],
   "source": [
    "city_dict= pd.DataFrame({\n",
    "    'City': cit,\n",
    "    'Lat': lat,\n",
    "    'Lng': long,\n",
    "    'Max Temp': maxtemp,\n",
    "    'Humidity': humidity,\n",
    "    'Cloudiness': cloud,\n",
    "    'Wind Speed': ws,\n",
    "    'Country': country,\n",
    "    'Date': date\n",
    "})\n",
    "city_dict"
   ]
  },
  {
   "cell_type": "code",
   "execution_count": 110,
   "metadata": {},
   "outputs": [
    {
     "data": {
      "text/html": [
       "<div>\n",
       "<style scoped>\n",
       "    .dataframe tbody tr th:only-of-type {\n",
       "        vertical-align: middle;\n",
       "    }\n",
       "\n",
       "    .dataframe tbody tr th {\n",
       "        vertical-align: top;\n",
       "    }\n",
       "\n",
       "    .dataframe thead th {\n",
       "        text-align: right;\n",
       "    }\n",
       "</style>\n",
       "<table border=\"1\" class=\"dataframe\">\n",
       "  <thead>\n",
       "    <tr style=\"text-align: right;\">\n",
       "      <th></th>\n",
       "      <th>Lat</th>\n",
       "      <th>Lng</th>\n",
       "      <th>Max Temp</th>\n",
       "      <th>Humidity</th>\n",
       "      <th>Cloudiness</th>\n",
       "      <th>Wind Speed</th>\n",
       "      <th>Date</th>\n",
       "    </tr>\n",
       "  </thead>\n",
       "  <tbody>\n",
       "    <tr>\n",
       "      <th>count</th>\n",
       "      <td>529.000000</td>\n",
       "      <td>529.000000</td>\n",
       "      <td>529.000000</td>\n",
       "      <td>529.000000</td>\n",
       "      <td>529.000000</td>\n",
       "      <td>529.000000</td>\n",
       "      <td>5.290000e+02</td>\n",
       "    </tr>\n",
       "    <tr>\n",
       "      <th>mean</th>\n",
       "      <td>20.486589</td>\n",
       "      <td>17.311578</td>\n",
       "      <td>61.662476</td>\n",
       "      <td>71.098299</td>\n",
       "      <td>61.211720</td>\n",
       "      <td>8.602628</td>\n",
       "      <td>1.666544e+09</td>\n",
       "    </tr>\n",
       "    <tr>\n",
       "      <th>std</th>\n",
       "      <td>33.056674</td>\n",
       "      <td>91.071409</td>\n",
       "      <td>21.306190</td>\n",
       "      <td>20.881832</td>\n",
       "      <td>38.543666</td>\n",
       "      <td>5.927566</td>\n",
       "      <td>1.076899e+02</td>\n",
       "    </tr>\n",
       "    <tr>\n",
       "      <th>min</th>\n",
       "      <td>-54.800000</td>\n",
       "      <td>-175.200000</td>\n",
       "      <td>-4.500000</td>\n",
       "      <td>8.000000</td>\n",
       "      <td>0.000000</td>\n",
       "      <td>0.290000</td>\n",
       "      <td>1.666544e+09</td>\n",
       "    </tr>\n",
       "    <tr>\n",
       "      <th>25%</th>\n",
       "      <td>-6.884400</td>\n",
       "      <td>-63.598600</td>\n",
       "      <td>47.970000</td>\n",
       "      <td>60.000000</td>\n",
       "      <td>21.000000</td>\n",
       "      <td>4.270000</td>\n",
       "      <td>1.666544e+09</td>\n",
       "    </tr>\n",
       "    <tr>\n",
       "      <th>50%</th>\n",
       "      <td>22.075200</td>\n",
       "      <td>24.183300</td>\n",
       "      <td>67.780000</td>\n",
       "      <td>76.000000</td>\n",
       "      <td>75.000000</td>\n",
       "      <td>7.250000</td>\n",
       "      <td>1.666544e+09</td>\n",
       "    </tr>\n",
       "    <tr>\n",
       "      <th>75%</th>\n",
       "      <td>48.421900</td>\n",
       "      <td>99.184400</td>\n",
       "      <td>78.750000</td>\n",
       "      <td>87.000000</td>\n",
       "      <td>99.000000</td>\n",
       "      <td>11.500000</td>\n",
       "      <td>1.666544e+09</td>\n",
       "    </tr>\n",
       "    <tr>\n",
       "      <th>max</th>\n",
       "      <td>78.218600</td>\n",
       "      <td>179.316700</td>\n",
       "      <td>100.530000</td>\n",
       "      <td>100.000000</td>\n",
       "      <td>100.000000</td>\n",
       "      <td>33.530000</td>\n",
       "      <td>1.666545e+09</td>\n",
       "    </tr>\n",
       "  </tbody>\n",
       "</table>\n",
       "</div>"
      ],
      "text/plain": [
       "              Lat         Lng    Max Temp    Humidity  Cloudiness  Wind Speed  \\\n",
       "count  529.000000  529.000000  529.000000  529.000000  529.000000  529.000000   \n",
       "mean    20.486589   17.311578   61.662476   71.098299   61.211720    8.602628   \n",
       "std     33.056674   91.071409   21.306190   20.881832   38.543666    5.927566   \n",
       "min    -54.800000 -175.200000   -4.500000    8.000000    0.000000    0.290000   \n",
       "25%     -6.884400  -63.598600   47.970000   60.000000   21.000000    4.270000   \n",
       "50%     22.075200   24.183300   67.780000   76.000000   75.000000    7.250000   \n",
       "75%     48.421900   99.184400   78.750000   87.000000   99.000000   11.500000   \n",
       "max     78.218600  179.316700  100.530000  100.000000  100.000000   33.530000   \n",
       "\n",
       "               Date  \n",
       "count  5.290000e+02  \n",
       "mean   1.666544e+09  \n",
       "std    1.076899e+02  \n",
       "min    1.666544e+09  \n",
       "25%    1.666544e+09  \n",
       "50%    1.666544e+09  \n",
       "75%    1.666544e+09  \n",
       "max    1.666545e+09  "
      ]
     },
     "execution_count": 110,
     "metadata": {},
     "output_type": "execute_result"
    }
   ],
   "source": [
    "city_dict.describe()"
   ]
  },
  {
   "cell_type": "markdown",
   "metadata": {},
   "source": [
    "## Inspect the data and remove the cities where the humidity > 100%.\n",
    "----\n",
    "Skip this step if there are no cities that have humidity > 100%. "
   ]
  },
  {
   "cell_type": "code",
   "execution_count": 111,
   "metadata": {},
   "outputs": [
    {
     "data": {
      "text/html": [
       "<div>\n",
       "<style scoped>\n",
       "    .dataframe tbody tr th:only-of-type {\n",
       "        vertical-align: middle;\n",
       "    }\n",
       "\n",
       "    .dataframe tbody tr th {\n",
       "        vertical-align: top;\n",
       "    }\n",
       "\n",
       "    .dataframe thead th {\n",
       "        text-align: right;\n",
       "    }\n",
       "</style>\n",
       "<table border=\"1\" class=\"dataframe\">\n",
       "  <thead>\n",
       "    <tr style=\"text-align: right;\">\n",
       "      <th></th>\n",
       "      <th>Lat</th>\n",
       "      <th>Lng</th>\n",
       "      <th>Max Temp</th>\n",
       "      <th>Humidity</th>\n",
       "      <th>Cloudiness</th>\n",
       "      <th>Wind Speed</th>\n",
       "      <th>Date</th>\n",
       "    </tr>\n",
       "  </thead>\n",
       "  <tbody>\n",
       "    <tr>\n",
       "      <th>count</th>\n",
       "      <td>529.000000</td>\n",
       "      <td>529.000000</td>\n",
       "      <td>529.000000</td>\n",
       "      <td>529.000000</td>\n",
       "      <td>529.000000</td>\n",
       "      <td>529.000000</td>\n",
       "      <td>5.290000e+02</td>\n",
       "    </tr>\n",
       "    <tr>\n",
       "      <th>mean</th>\n",
       "      <td>20.486589</td>\n",
       "      <td>17.311578</td>\n",
       "      <td>61.662476</td>\n",
       "      <td>71.098299</td>\n",
       "      <td>61.211720</td>\n",
       "      <td>8.602628</td>\n",
       "      <td>1.666544e+09</td>\n",
       "    </tr>\n",
       "    <tr>\n",
       "      <th>std</th>\n",
       "      <td>33.056674</td>\n",
       "      <td>91.071409</td>\n",
       "      <td>21.306190</td>\n",
       "      <td>20.881832</td>\n",
       "      <td>38.543666</td>\n",
       "      <td>5.927566</td>\n",
       "      <td>1.076899e+02</td>\n",
       "    </tr>\n",
       "    <tr>\n",
       "      <th>min</th>\n",
       "      <td>-54.800000</td>\n",
       "      <td>-175.200000</td>\n",
       "      <td>-4.500000</td>\n",
       "      <td>8.000000</td>\n",
       "      <td>0.000000</td>\n",
       "      <td>0.290000</td>\n",
       "      <td>1.666544e+09</td>\n",
       "    </tr>\n",
       "    <tr>\n",
       "      <th>25%</th>\n",
       "      <td>-6.884400</td>\n",
       "      <td>-63.598600</td>\n",
       "      <td>47.970000</td>\n",
       "      <td>60.000000</td>\n",
       "      <td>21.000000</td>\n",
       "      <td>4.270000</td>\n",
       "      <td>1.666544e+09</td>\n",
       "    </tr>\n",
       "    <tr>\n",
       "      <th>50%</th>\n",
       "      <td>22.075200</td>\n",
       "      <td>24.183300</td>\n",
       "      <td>67.780000</td>\n",
       "      <td>76.000000</td>\n",
       "      <td>75.000000</td>\n",
       "      <td>7.250000</td>\n",
       "      <td>1.666544e+09</td>\n",
       "    </tr>\n",
       "    <tr>\n",
       "      <th>75%</th>\n",
       "      <td>48.421900</td>\n",
       "      <td>99.184400</td>\n",
       "      <td>78.750000</td>\n",
       "      <td>87.000000</td>\n",
       "      <td>99.000000</td>\n",
       "      <td>11.500000</td>\n",
       "      <td>1.666544e+09</td>\n",
       "    </tr>\n",
       "    <tr>\n",
       "      <th>max</th>\n",
       "      <td>78.218600</td>\n",
       "      <td>179.316700</td>\n",
       "      <td>100.530000</td>\n",
       "      <td>100.000000</td>\n",
       "      <td>100.000000</td>\n",
       "      <td>33.530000</td>\n",
       "      <td>1.666545e+09</td>\n",
       "    </tr>\n",
       "  </tbody>\n",
       "</table>\n",
       "</div>"
      ],
      "text/plain": [
       "              Lat         Lng    Max Temp    Humidity  Cloudiness  Wind Speed  \\\n",
       "count  529.000000  529.000000  529.000000  529.000000  529.000000  529.000000   \n",
       "mean    20.486589   17.311578   61.662476   71.098299   61.211720    8.602628   \n",
       "std     33.056674   91.071409   21.306190   20.881832   38.543666    5.927566   \n",
       "min    -54.800000 -175.200000   -4.500000    8.000000    0.000000    0.290000   \n",
       "25%     -6.884400  -63.598600   47.970000   60.000000   21.000000    4.270000   \n",
       "50%     22.075200   24.183300   67.780000   76.000000   75.000000    7.250000   \n",
       "75%     48.421900   99.184400   78.750000   87.000000   99.000000   11.500000   \n",
       "max     78.218600  179.316700  100.530000  100.000000  100.000000   33.530000   \n",
       "\n",
       "               Date  \n",
       "count  5.290000e+02  \n",
       "mean   1.666544e+09  \n",
       "std    1.076899e+02  \n",
       "min    1.666544e+09  \n",
       "25%    1.666544e+09  \n",
       "50%    1.666544e+09  \n",
       "75%    1.666544e+09  \n",
       "max    1.666545e+09  "
      ]
     },
     "execution_count": 111,
     "metadata": {},
     "output_type": "execute_result"
    }
   ],
   "source": [
    "cit_cleaned= city_dict[city_dict[\"Humidity\"]<101]\n",
    "cit_cleaned.describe()"
   ]
  },
  {
   "cell_type": "markdown",
   "metadata": {},
   "source": [
    "## Plotting the Data\n",
    "* Use proper labeling of the plots using plot titles (including date of analysis) and axes labels.\n",
    "* Save the plotted figures as .pngs."
   ]
  },
  {
   "cell_type": "markdown",
   "metadata": {},
   "source": [
    "## Latitude vs. Temperature Plot"
   ]
  },
  {
   "cell_type": "code",
   "execution_count": 112,
   "metadata": {
    "scrolled": true
   },
   "outputs": [
    {
     "data": {
      "image/png": "[encoded data removed]",
      "text/plain": [
       "<Figure size 432x288 with 1 Axes>"
      ]
     },
     "metadata": {
      "needs_background": "light"
     },
     "output_type": "display_data"
    }
   ],
   "source": [
    "plt.scatter(cit_cleaned[\"Lat\"],cit_cleaned[\"Max Temp\"])\n",
    "plt.xlabel('Latitude')\n",
    "plt.ylabel('Max Temperature (F)')\n",
    "plt.title(\"Latitude vs. Max Temperature in Fahrenheit\")\n",
    "plt.grid()\n",
    "plt.show()"
   ]
  },
  {
   "cell_type": "markdown",
   "metadata": {},
   "source": [
    "## Latitude vs. Humidity Plot"
   ]
  },
  {
   "cell_type": "code",
   "execution_count": 113,
   "metadata": {},
   "outputs": [
    {
     "data": {
      "image/png": "[encoded data removed]",
      "text/plain": [
       "<Figure size 432x288 with 1 Axes>"
      ]
     },
     "metadata": {
      "needs_background": "light"
     },
     "output_type": "display_data"
    }
   ],
   "source": [
    "plt.scatter(cit_cleaned[\"Lat\"],cit_cleaned[\"Humidity\"])\n",
    "plt.xlabel('Latitude')\n",
    "plt.ylabel('Humidity (%)')\n",
    "plt.title(\"City Latitude vs. Humidity\")\n",
    "plt.grid()\n",
    "plt.show()"
   ]
  },
  {
   "cell_type": "markdown",
   "metadata": {},
   "source": [
    "## Latitude vs. Cloudiness Plot"
   ]
  },
  {
   "cell_type": "code",
   "execution_count": 114,
   "metadata": {},
   "outputs": [
    {
     "data": {
      "image/png": "[encoded data removed]",
      "text/plain": [
       "<Figure size 432x288 with 1 Axes>"
      ]
     },
     "metadata": {
      "needs_background": "light"
     },
     "output_type": "display_data"
    }
   ],
   "source": [
    "plt.scatter(cit_cleaned[\"Lat\"],cit_cleaned[\"Cloudiness\"])\n",
    "plt.xlabel('Latitude')\n",
    "plt.ylabel('Cloudiness (%)')\n",
    "plt.title(\" City Latitude vs. Cloudiness\")\n",
    "plt.grid()\n",
    "plt.show()"
   ]
  },
  {
   "cell_type": "markdown",
   "metadata": {},
   "source": [
    "## Latitude vs. Wind Speed Plot"
   ]
  },
  {
   "cell_type": "code",
   "execution_count": 115,
   "metadata": {},
   "outputs": [
    {
     "data": {
      "image/png": "[encoded data removed]",
      "text/plain": [
       "<Figure size 432x288 with 1 Axes>"
      ]
     },
     "metadata": {
      "needs_background": "light"
     },
     "output_type": "display_data"
    }
   ],
   "source": [
    "plt.scatter(cit_cleaned[\"Lat\"],cit_cleaned[\"Wind Speed\"])\n",
    "plt.xlabel('Latitude')\n",
    "plt.ylabel('Wind Speed (mph)')\n",
    "plt.title(\" City Latitude vs. Wind Speed\")\n",
    "plt.grid()\n",
    "plt.show()"
   ]
  },
  {
   "cell_type": "markdown",
   "metadata": {},
   "source": [
    "## Linear Regression"
   ]
  },
  {
   "cell_type": "code",
   "execution_count": 116,
   "metadata": {},
   "outputs": [],
   "source": [
    "north= cit_cleaned[cit_cleaned[\"Lat\"]>=0]\n",
    "south= cit_cleaned[cit_cleaned[\"Lat\"]<=0]"
   ]
  },
  {
   "cell_type": "markdown",
   "metadata": {},
   "source": [
    "####  Northern Hemisphere - Max Temp vs. Latitude Linear Regression"
   ]
  },
  {
   "cell_type": "code",
   "execution_count": 118,
   "metadata": {},
   "outputs": [
    {
     "name": "stdout",
     "output_type": "stream",
     "text": [
      "The correlation between both factors is -0.87\n"
     ]
    },
    {
     "data": {
      "text/plain": [
       "Text(10, 5, 'y = -1.01x + 96.08')"
      ]
     },
     "execution_count": 118,
     "metadata": {},
     "output_type": "execute_result"
    },
    {
     "data": {
      "image/png": "[encoded data removed]",
      "text/plain": [
       "<Figure size 432x288 with 1 Axes>"
      ]
     },
     "metadata": {
      "needs_background": "light"
     },
     "output_type": "display_data"
    }
   ],
   "source": [
    "correlation= st.pearsonr(north[\"Lat\"], north[\"Max Temp\"])\n",
    "print(f\"The correlation between both factors is {round(correlation[0],2)}\")\n",
    "x_values= north['Lat']\n",
    "y_values= north[\"Max Temp\"]\n",
    "(slope, intercept, rvalue, pvalue, stderr) = linregress(x_values, y_values)\n",
    "regress_values = north[\"Lat\"] * slope + intercept\n",
    "line_eq = \"y = \" + str(round(slope,2)) + \"x + \" + str(round(intercept,2))\n",
    "plt.scatter(x_values, y_values)\n",
    "plt.plot(x_values,regress_values,\"r-\")\n",
    "plt.xlabel(\"Latitude\")\n",
    "plt.ylabel(\"Max Temp (F)\")\n",
    "plt.annotate(line_eq,(10,5),fontsize=10,color=\"red\")"
   ]
  },
  {
   "cell_type": "markdown",
   "metadata": {},
   "source": [
    "####  Southern Hemisphere - Max Temp vs. Latitude Linear Regression"
   ]
  },
  {
   "cell_type": "code",
   "execution_count": 121,
   "metadata": {},
   "outputs": [
    {
     "name": "stdout",
     "output_type": "stream",
     "text": [
      "The correlation between both factors is 0.69\n"
     ]
    },
    {
     "data": {
      "text/plain": [
       "Text(-20, 50, 'y = 0.57x + 84.6')"
      ]
     },
     "execution_count": 121,
     "metadata": {},
     "output_type": "execute_result"
    },
    {
     "data": {
      "image/png": "[encoded data removed]",
      "text/plain": [
       "<Figure size 432x288 with 1 Axes>"
      ]
     },
     "metadata": {
      "needs_background": "light"
     },
     "output_type": "display_data"
    }
   ],
   "source": [
    "correlation= st.pearsonr(south[\"Lat\"], south[\"Max Temp\"])\n",
    "print(f\"The correlation between both factors is {round(correlation[0],2)}\")\n",
    "x_values= south['Lat']\n",
    "y_values= south[\"Max Temp\"]\n",
    "(slope, intercept, rvalue, pvalue, stderr) = linregress(x_values, y_values)\n",
    "regress_values = south[\"Lat\"] * slope + intercept\n",
    "line_eq = \"y = \" + str(round(slope,2)) + \"x + \" + str(round(intercept,2))\n",
    "plt.scatter(x_values, y_values)\n",
    "plt.plot(x_values,regress_values,\"r-\")\n",
    "plt.xlabel(\"Latitude\")\n",
    "plt.ylabel(\"Max Temp (F)\")\n",
    "plt.annotate(line_eq,(-20,50),fontsize=10,color=\"red\")"
   ]
  },
  {
   "cell_type": "markdown",
   "metadata": {},
   "source": [
    "####  Northern Hemisphere - Humidity (%) vs. Latitude Linear Regression"
   ]
  },
  {
   "cell_type": "code",
   "execution_count": 123,
   "metadata": {},
   "outputs": [
    {
     "name": "stdout",
     "output_type": "stream",
     "text": [
      "The correlation between both factors is 0.35\n"
     ]
    },
    {
     "data": {
      "text/plain": [
       "Text(50, 20, 'y = 0.37x + 57.0')"
      ]
     },
     "execution_count": 123,
     "metadata": {},
     "output_type": "execute_result"
    },
    {
     "data": {
      "image/png": "[encoded data removed]",
      "text/plain": [
       "<Figure size 432x288 with 1 Axes>"
      ]
     },
     "metadata": {
      "needs_background": "light"
     },
     "output_type": "display_data"
    }
   ],
   "source": [
    "correlation= st.pearsonr(north[\"Lat\"], north[\"Humidity\"])\n",
    "print(f\"The correlation between both factors is {round(correlation[0],2)}\")\n",
    "x_values= north['Lat']\n",
    "y_values= north[\"Humidity\"]\n",
    "(slope, intercept, rvalue, pvalue, stderr) = linregress(x_values, y_values)\n",
    "regress_values = north[\"Lat\"] * slope + intercept\n",
    "line_eq = \"y = \" + str(round(slope,2)) + \"x + \" + str(round(intercept,2))\n",
    "plt.scatter(x_values, y_values)\n",
    "plt.plot(x_values,regress_values,\"r-\")\n",
    "plt.xlabel(\"Latitude\")\n",
    "plt.ylabel(\"Humidity (%)\")\n",
    "plt.annotate(line_eq,(50,20),fontsize=10,color=\"red\")"
   ]
  },
  {
   "cell_type": "markdown",
   "metadata": {},
   "source": [
    "####  Southern Hemisphere - Humidity (%) vs. Latitude Linear Regression"
   ]
  },
  {
   "cell_type": "code",
   "execution_count": 126,
   "metadata": {},
   "outputs": [
    {
     "name": "stdout",
     "output_type": "stream",
     "text": [
      "The correlation between both factors is -0.02\n"
     ]
    },
    {
     "data": {
      "text/plain": [
       "Text(-50, 20, 'y = -0.03x + 69.18')"
      ]
     },
     "execution_count": 126,
     "metadata": {},
     "output_type": "execute_result"
    },
    {
     "data": {
      "image/png": "[encoded data removed]",
      "text/plain": [
       "<Figure size 432x288 with 1 Axes>"
      ]
     },
     "metadata": {
      "needs_background": "light"
     },
     "output_type": "display_data"
    }
   ],
   "source": [
    "correlation= st.pearsonr(south[\"Lat\"], south[\"Humidity\"])\n",
    "print(f\"The correlation between both factors is {round(correlation[0],2)}\")\n",
    "x_values= south['Lat']\n",
    "y_values= south[\"Humidity\"]\n",
    "(slope, intercept, rvalue, pvalue, stderr) = linregress(x_values, y_values)\n",
    "regress_values = south[\"Lat\"] * slope + intercept\n",
    "line_eq = \"y = \" + str(round(slope,2)) + \"x + \" + str(round(intercept,2))\n",
    "plt.scatter(x_values, y_values)\n",
    "plt.plot(x_values,regress_values,\"r-\")\n",
    "plt.xlabel(\"Latitude\")\n",
    "plt.ylabel(\"Humidity (%)\")\n",
    "plt.annotate(line_eq,(-50,20),fontsize=15,color=\"red\")"
   ]
  },
  {
   "cell_type": "markdown",
   "metadata": {},
   "source": [
    "####  Northern Hemisphere - Cloudiness (%) vs. Latitude Linear Regression"
   ]
  },
  {
   "cell_type": "code",
   "execution_count": 129,
   "metadata": {},
   "outputs": [
    {
     "name": "stdout",
     "output_type": "stream",
     "text": [
      "The correlation between both factors is 0.31\n"
     ]
    },
    {
     "data": {
      "text/plain": [
       "Text(50, 30, 'y = 0.63x + 34.91')"
      ]
     },
     "execution_count": 129,
     "metadata": {},
     "output_type": "execute_result"
    },
    {
     "data": {
      "image/png": "[encoded data removed]",
      "text/plain": [
       "<Figure size 432x288 with 1 Axes>"
      ]
     },
     "metadata": {
      "needs_background": "light"
     },
     "output_type": "display_data"
    }
   ],
   "source": [
    "correlation= st.pearsonr(north[\"Lat\"], north[\"Cloudiness\"])\n",
    "print(f\"The correlation between both factors is {round(correlation[0],2)}\")\n",
    "x_values= north['Lat']\n",
    "y_values= north[\"Cloudiness\"]\n",
    "(slope, intercept, rvalue, pvalue, stderr) = linregress(x_values, y_values)\n",
    "regress_values = north[\"Lat\"] * slope + intercept\n",
    "line_eq = \"y = \" + str(round(slope,2)) + \"x + \" + str(round(intercept,2))\n",
    "plt.scatter(x_values, y_values)\n",
    "plt.plot(x_values,regress_values,\"r-\")\n",
    "plt.xlabel(\"Latitude\")\n",
    "plt.ylabel(\"Cloudiness (%)\")\n",
    "plt.annotate(line_eq,(50,30),fontsize=15,color=\"red\")"
   ]
  },
  {
   "cell_type": "markdown",
   "metadata": {},
   "source": [
    "####  Southern Hemisphere - Cloudiness (%) vs. Latitude Linear Regression"
   ]
  },
  {
   "cell_type": "code",
   "execution_count": 132,
   "metadata": {},
   "outputs": [
    {
     "name": "stdout",
     "output_type": "stream",
     "text": [
      "The correlation between both factors is 0.14\n"
     ]
    },
    {
     "data": {
      "text/plain": [
       "Text(-50, 20, 'y = 0.37x + 71.86')"
      ]
     },
     "execution_count": 132,
     "metadata": {},
     "output_type": "execute_result"
    },
    {
     "data": {
      "image/png": "[encoded data removed]",
      "text/plain": [
       "<Figure size 432x288 with 1 Axes>"
      ]
     },
     "metadata": {
      "needs_background": "light"
     },
     "output_type": "display_data"
    }
   ],
   "source": [
    "correlation= st.pearsonr(south[\"Lat\"], south[\"Cloudiness\"])\n",
    "print(f\"The correlation between both factors is {round(correlation[0],2)}\")\n",
    "x_values= south['Lat']\n",
    "y_values= south[\"Cloudiness\"]\n",
    "(slope, intercept, rvalue, pvalue, stderr) = linregress(x_values, y_values)\n",
    "regress_values = south[\"Lat\"] * slope + intercept\n",
    "line_eq = \"y = \" + str(round(slope,2)) + \"x + \" + str(round(intercept,2))\n",
    "plt.scatter(x_values, y_values)\n",
    "plt.plot(x_values,regress_values,\"r-\")\n",
    "plt.xlabel(\"Latitude\")\n",
    "plt.ylabel(\"Cloudiness (%)\")\n",
    "plt.annotate(line_eq,(-50,20),fontsize=15,color=\"red\")"
   ]
  },
  {
   "cell_type": "markdown",
   "metadata": {},
   "source": [
    "####  Northern Hemisphere - Wind Speed (mph) vs. Latitude Linear Regression"
   ]
  },
  {
   "cell_type": "code",
   "execution_count": 134,
   "metadata": {},
   "outputs": [
    {
     "name": "stdout",
     "output_type": "stream",
     "text": [
      "The correlation between both factors is 0.22\n"
     ]
    },
    {
     "data": {
      "text/plain": [
       "Text(10, 30, 'y = 0.07x + 5.78')"
      ]
     },
     "execution_count": 134,
     "metadata": {},
     "output_type": "execute_result"
    },
    {
     "data": {
      "image/png": "[encoded data removed]",
      "text/plain": [
       "<Figure size 432x288 with 1 Axes>"
      ]
     },
     "metadata": {
      "needs_background": "light"
     },
     "output_type": "display_data"
    }
   ],
   "source": [
    "correlation= st.pearsonr(north[\"Lat\"], north[\"Wind Speed\"])\n",
    "print(f\"The correlation between both factors is {round(correlation[0],2)}\")\n",
    "x_values= north['Lat']\n",
    "y_values= north[\"Wind Speed\"]\n",
    "(slope, intercept, rvalue, pvalue, stderr) = linregress(x_values, y_values)\n",
    "regress_values = north[\"Lat\"] * slope + intercept\n",
    "line_eq = \"y = \" + str(round(slope,2)) + \"x + \" + str(round(intercept,2))\n",
    "plt.scatter(x_values, y_values)\n",
    "plt.plot(x_values,regress_values,\"r-\")\n",
    "plt.xlabel(\"Latitude\")\n",
    "plt.ylabel(\"Wind Speed (mph)\")\n",
    "plt.annotate(line_eq,(10,30),fontsize=10,color=\"red\")"
   ]
  },
  {
   "cell_type": "markdown",
   "metadata": {},
   "source": [
    "####  Southern Hemisphere - Wind Speed (mph) vs. Latitude Linear Regression"
   ]
  },
  {
   "cell_type": "code",
   "execution_count": 136,
   "metadata": {},
   "outputs": [
    {
     "name": "stdout",
     "output_type": "stream",
     "text": [
      "The correlation between both factors is -0.32\n"
     ]
    },
    {
     "data": {
      "text/plain": [
       "Text(-50, 25, 'y = -0.14x + 6.09')"
      ]
     },
     "execution_count": 136,
     "metadata": {},
     "output_type": "execute_result"
    },
    {
     "data": {
      "image/png": "[encoded data removed]",
      "text/plain": [
       "<Figure size 432x288 with 1 Axes>"
      ]
     },
     "metadata": {
      "needs_background": "light"
     },
     "output_type": "display_data"
    }
   ],
   "source": [
    "correlation= st.pearsonr(south[\"Lat\"], south[\"Wind Speed\"])\n",
    "print(f\"The correlation between both factors is {round(correlation[0],2)}\")\n",
    "x_values= south['Lat']\n",
    "y_values= south[\"Wind Speed\"]\n",
    "(slope, intercept, rvalue, pvalue, stderr) = linregress(x_values, y_values)\n",
    "regress_values = south[\"Lat\"] * slope + intercept\n",
    "line_eq = \"y = \" + str(round(slope,2)) + \"x + \" + str(round(intercept,2))\n",
    "plt.scatter(x_values, y_values)\n",
    "plt.plot(x_values,regress_values,\"r-\")\n",
    "plt.xlabel(\"Latitude\")\n",
    "plt.ylabel(\"Wind Speed (mph)\")\n",
    "plt.annotate(line_eq,(-50,25),fontsize=10,color=\"red\")"
   ]
  },
  {
   "cell_type": "code",
   "execution_count": 139,
   "metadata": {},
   "outputs": [],
   "source": [
    "cit_cleaned.to_csv('../city_info.csv',index=False)"
   ]
  },
  {
   "cell_type": "code",
   "execution_count": null,
   "metadata": {},
   "outputs": [],
   "source": []
  }
 ],
 "metadata": {
  "anaconda-cloud": {},
  "kernel_info": {
   "name": "python3"
  },
  "kernelspec": {
   "display_name": "Python 3 (ipykernel)",
   "language": "python",
   "name": "python3"
  },
  "language_info": {
   "codemirror_mode": {
    "name": "ipython",
    "version": 3
   },
   "file_extension": ".py",
   "mimetype": "text/x-python",
   "name": "python",
   "nbconvert_exporter": "python",
   "pygments_lexer": "ipython3",
   "version": "3.7.7"
  },
  "latex_envs": {
   "LaTeX_envs_menu_present": true,
   "autoclose": false,
   "autocomplete": true,
   "bibliofile": "biblio.bib",
   "cite_by": "apalike",
   "current_citInitial": 1,
   "eqLabelWithNumbers": true,
   "eqNumInitial": 1,
   "hotkeys": {
    "equation": "Ctrl-E",
    "itemize": "Ctrl-I"
   },
   "labels_anchors": false,
   "latex_user_defs": false,
   "report_style_numbering": false,
   "user_envs_cfg": false
  },
  "nteract": {
   "version": "0.12.3"
  }
 },
 "nbformat": 4,
 "nbformat_minor": 2
}
